{
 "cells": [
  {
   "cell_type": "code",
   "execution_count": 83,
   "metadata": {},
   "outputs": [],
   "source": [
    "import numpy as np \n",
    "import pandas as pd \n",
    "import os \n",
    "import random \n",
    "from tqdm import tqdm \n",
    "import torch \n",
    "import torch.nn.functional as F \n",
    "import torch.nn as nn \n",
    "import json \n",
    "import matplotlib.pyplot as plt \n",
    "from torch.utils.data import Dataset, DataLoader\n",
    "from transformers import *\n",
    "import pickle\n",
    "import pandas_ta as ta # needed for processing chart data \n",
    "from random import randrange # needed for random agent\n",
    "from sklearn.utils.class_weight import compute_class_weight\n",
    "from pytorch_tabnet.tab_model import TabNetClassifier, TabNetRegressor \n",
    "from sklearn.metrics import f1_score  \n",
    "import ccxt \n",
    "from sklearn.metrics import mean_squared_error, mean_absolute_error"
   ]
  },
  {
   "cell_type": "code",
   "execution_count": 12,
   "metadata": {},
   "outputs": [],
   "source": [
    "df = pd.read_csv(\"4hours-v2/roberta.csv\")\n",
    "datetimes = df['datetime'].values \n",
    "\n",
    "train_idx, val_idx, test_idx, test_end_idx = -1,-1,-1, -1 \n",
    "\n",
    "for i, d in enumerate(datetimes): \n",
    "    d = pd.to_datetime(d)\n",
    "    if d.year == 2018 and d.month == 2 and d.day == 14 and d.hour == 16:\n",
    "        train_idx = i\n",
    "    elif d.year == 2021 and d.month == 6 and d.day == 16 and d.hour == 0:\n",
    "        val_idx = i\n",
    "    elif d.year == 2021 and d.month == 11 and d.day == 14 and d.hour == 20:\n",
    "        test_idx = i \n",
    "    elif d.year == 2022 and d.month == 4 and d.day == 15 and d.hour == 20: \n",
    "        test_end_idx = i \n",
    "        \n",
    "train_df = df.iloc[train_idx:val_idx] \n",
    "val_df = df.iloc[val_idx:test_idx] \n",
    "test_df = df.iloc[test_idx:test_end_idx+1] "
   ]
  },
  {
   "cell_type": "code",
   "execution_count": 13,
   "metadata": {},
   "outputs": [
    {
     "data": {
      "text/plain": [
       "((7295, 37), (911, 37), (913, 37))"
      ]
     },
     "execution_count": 13,
     "metadata": {},
     "output_type": "execute_result"
    }
   ],
   "source": [
    " train_df.shape, val_df.shape, test_df.shape"
   ]
  },
  {
   "cell_type": "code",
   "execution_count": null,
   "metadata": {},
   "outputs": [],
   "source": []
  },
  {
   "cell_type": "markdown",
   "metadata": {},
   "source": [
    "# Train High Model"
   ]
  },
  {
   "cell_type": "code",
   "execution_count": 50,
   "metadata": {},
   "outputs": [],
   "source": [
    "'''\n",
    "K: forecasting window \n",
    "'''\n",
    "def preprocess_data(df, K=1, target_type = \"high\"): \n",
    "    future_discs = []\n",
    "    disc_values = df[[\"months\", \"days\", \"hours\"]] \n",
    "    \n",
    "    for i in tqdm(range(disc_values.shape[0] - K)):\n",
    "        future_disc = [] \n",
    "        for j in range(1,K+1):\n",
    "            future_disc.append(disc_values.iloc[i+j,:])\n",
    "        future_discs.append(future_disc)\n",
    "    \n",
    "    if target_type == \"high\":\n",
    "        targets = df['high_delta'].values \n",
    "    elif target_type == \"low\":\n",
    "        targets = df['low_delta'].values \n",
    "    \n",
    "    disc_cols = [\"months\", \"days\", \"hours\"] \n",
    "    cont_cols = [] \n",
    "    cols = df.columns \n",
    "    for col in cols: \n",
    "        if col not in disc_cols and col != 'high_delta' and col != 'low_delta' and col != 'datetime': \n",
    "            cont_cols.append(col) \n",
    "    \n",
    "    df_cont = df[cont_cols].values \n",
    "    df_disc = df[disc_cols].values \n",
    "        \n",
    "    df_cont = torch.tensor(df_cont, dtype=torch.float32) \n",
    "    df_disc = torch.tensor(df_disc, dtype=torch.float32) \n",
    "    \n",
    "    num_cont_features = len(cont_cols) \n",
    "    num_disc_features = len(disc_cols) \n",
    "    \n",
    "    df_cont = torch.reshape(df_cont, (-1,1,num_cont_features,1))\n",
    "    df_disc = torch.reshape(df_disc, (-1,1,num_disc_features)) \n",
    "    \n",
    "    df_targets = torch.tensor(targets, dtype=torch.float32)\n",
    "    df_targets = torch.reshape(df_targets, (-1,K,1)) \n",
    "    \n",
    "    df_future_discs = torch.tensor(future_discs, dtype=torch.float32)\n",
    "    df_future_discs = torch.reshape(df_future_discs, (-1, K, num_disc_features))\n",
    "    \n",
    "    return df_cont[:-1], df_targets[:-1], df_disc[:-1], df_future_discs "
   ]
  },
  {
   "cell_type": "code",
   "execution_count": 51,
   "metadata": {},
   "outputs": [
    {
     "name": "stderr",
     "output_type": "stream",
     "text": [
      "100%|██████████| 7294/7294 [00:01<00:00, 4777.10it/s]\n"
     ]
    }
   ],
   "source": [
    "train_cont, train_targets, train_disc, train_future_discs = preprocess_data(train_df)"
   ]
  },
  {
   "cell_type": "code",
   "execution_count": 52,
   "metadata": {},
   "outputs": [
    {
     "data": {
      "text/plain": [
       "(torch.Size([7294, 1, 31, 1]),\n",
       " torch.Size([7294, 1, 1]),\n",
       " torch.Size([7294, 1, 3]),\n",
       " torch.Size([7294, 1, 3]))"
      ]
     },
     "execution_count": 52,
     "metadata": {},
     "output_type": "execute_result"
    }
   ],
   "source": [
    "train_cont.shape, train_targets.shape, train_disc.shape, train_future_discs.shape"
   ]
  },
  {
   "cell_type": "code",
   "execution_count": 53,
   "metadata": {},
   "outputs": [
    {
     "name": "stderr",
     "output_type": "stream",
     "text": [
      "100%|██████████| 910/910 [00:00<00:00, 5870.99it/s]\n"
     ]
    }
   ],
   "source": [
    "val_cont, val_targets, val_disc, val_future_discs = preprocess_data(val_df)"
   ]
  },
  {
   "cell_type": "code",
   "execution_count": 54,
   "metadata": {},
   "outputs": [
    {
     "data": {
      "text/plain": [
       "(torch.Size([910, 1, 31, 1]),\n",
       " torch.Size([910, 1, 1]),\n",
       " torch.Size([910, 1, 3]),\n",
       " torch.Size([910, 1, 3]))"
      ]
     },
     "execution_count": 54,
     "metadata": {},
     "output_type": "execute_result"
    }
   ],
   "source": [
    "val_cont.shape, val_targets.shape, val_disc.shape, val_future_discs.shape"
   ]
  },
  {
   "cell_type": "code",
   "execution_count": 55,
   "metadata": {},
   "outputs": [
    {
     "name": "stderr",
     "output_type": "stream",
     "text": [
      "100%|██████████| 912/912 [00:00<00:00, 5997.29it/s]\n"
     ]
    }
   ],
   "source": [
    "test_cont, test_targets, test_disc, test_future_discs = preprocess_data(test_df)"
   ]
  },
  {
   "cell_type": "code",
   "execution_count": 56,
   "metadata": {},
   "outputs": [
    {
     "data": {
      "text/plain": [
       "(torch.Size([912, 1, 31, 1]),\n",
       " torch.Size([912, 1, 1]),\n",
       " torch.Size([912, 1, 3]),\n",
       " torch.Size([912, 1, 3]))"
      ]
     },
     "execution_count": 56,
     "metadata": {},
     "output_type": "execute_result"
    }
   ],
   "source": [
    "test_cont.shape, test_targets.shape, test_disc.shape, test_future_discs.shape"
   ]
  },
  {
   "cell_type": "code",
   "execution_count": 57,
   "metadata": {},
   "outputs": [],
   "source": [
    "BATCH_SIZE = 32\n",
    "\n",
    "class CustomDataset(Dataset): \n",
    "    def __init__(self, past_cont, past_disc, target_seq, future_disc): \n",
    "        self.past_cont = past_cont\n",
    "        self.past_disc = past_disc \n",
    "        self.target_seq = target_seq  \n",
    "        self.future_disc = future_disc \n",
    "        \n",
    "    def __len__(self): \n",
    "        return len(self.past_cont) \n",
    "    \n",
    "    def __getitem__(self, i):  \n",
    "        return {\n",
    "            'past_cont': torch.tensor(self.past_cont[i], dtype=torch.float32), \n",
    "            'past_disc': torch.tensor(self.past_disc[i], dtype=torch.float32), \n",
    "            'target_seq': torch.tensor(self.target_seq[i], dtype=torch.float32),  \n",
    "            'future_disc': torch.tensor(self.future_disc[i], dtype=torch.float32),  \n",
    "        }\n",
    "\n",
    "train_dataset = CustomDataset(train_cont, train_disc, train_targets, train_future_discs)\n",
    "train_dataloader = torch.utils.data.DataLoader(train_dataset, batch_size = BATCH_SIZE, shuffle = True) \n",
    "\n",
    "\n",
    "val_dataset = CustomDataset(val_cont, val_disc, val_targets, val_future_discs) \n",
    "val_dataloader = torch.utils.data.DataLoader(val_dataset, batch_size = BATCH_SIZE, shuffle=False)\n",
    "\n"
   ]
  },
  {
   "cell_type": "markdown",
   "metadata": {},
   "source": [
    "# Define TFT\n",
    "\n",
    "Reference: https://github.com/LiamMaclean216/Temporal-Fusion-Transformer/blob/master/Network.py"
   ]
  },
  {
   "cell_type": "code",
   "execution_count": 58,
   "metadata": {},
   "outputs": [],
   "source": [
    "def a_norm(Q, K): \n",
    "    m = torch.matmul(Q, K.transpose(2,1).float()) \n",
    "    m /= torch.sqrt(torch.tensor(Q.shape[-1]).float()) \n",
    "    return torch.softmax(m, -1) \n",
    "\n",
    "def attention(Q, K, V): \n",
    "    a = a_norm(Q, K) # (batch_size, dim_attn, seq_length) \n",
    "    return torch.matmul(a, V) # (batch_size, seq_length, seq_length) \n",
    "\n",
    "class AttentionBlock(torch.nn.Module): \n",
    "    def __init__(self, dim_val, dim_attn): \n",
    "        super(AttentionBlock, self).__init__()\n",
    "        self.value = Value(dim_val, dim_val) \n",
    "        self.key = Key(dim_val, dim_attn) \n",
    "        self.query = Query(dim_val, dim_attn) \n",
    "    \n",
    "    def forward(self, x, kv = None):\n",
    "        if kv is None:\n",
    "            # Attention with x connected to Q,K and V (For encoder)\n",
    "            return attention(self.query(x), self.key(x), self.value(x))\n",
    "        # Attention with x as Q, external vector kv as K and V (For decoder)\n",
    "        return attention(self.query(x), self.key(kv), self.value(kv))\n",
    "    \n",
    "class MultiHeadAttentionBlock(torch.nn.Module):\n",
    "    def __init__(self, dim_val, dim_attn, n_heads):\n",
    "        super(MultiHeadAttentionBlock, self).__init__()\n",
    "        self.heads = []\n",
    "        for i in range(n_heads):\n",
    "            self.heads.append(AttentionBlock(dim_val, dim_attn))\n",
    "        \n",
    "        self.fc = nn.Linear(n_heads * dim_val, dim_val, bias = False)\n",
    "                      \n",
    "    def forward(self, x, kv = None):\n",
    "        a = []\n",
    "        for h in self.heads:\n",
    "            a.append(h(x, kv = kv))\n",
    "            \n",
    "        a = torch.stack(a, dim = -1) #combine heads\n",
    "        a = a.flatten(start_dim = 2) #flatten all head outputs\n",
    "        \n",
    "        x = self.fc(a)\n",
    "        return x\n",
    "    \n",
    "class Value(torch.nn.Module):\n",
    "    def __init__(self, dim_input, dim_val):\n",
    "        super(Value, self).__init__()\n",
    "        self.fc1 = nn.Linear(dim_input, dim_val, bias = False).cuda()\n",
    "    \n",
    "    def forward(self, x):\n",
    "        return self.fc1(x)\n",
    "\n",
    "class Key(torch.nn.Module):\n",
    "    def __init__(self, dim_input, dim_attn):\n",
    "        super(Key, self).__init__()\n",
    "        self.fc1 = nn.Linear(dim_input, dim_attn, bias = False).cuda()\n",
    "    \n",
    "    def forward(self, x):\n",
    "        return self.fc1(x)\n",
    "\n",
    "class Query(torch.nn.Module):\n",
    "    def __init__(self, dim_input, dim_attn):\n",
    "        super(Query, self).__init__()\n",
    "        self.fc1 = nn.Linear(dim_input, dim_attn, bias = False).cuda()\n",
    "    \n",
    "    def forward(self, x):\n",
    "        return self.fc1(x)\n",
    "\n",
    "def QuantileLoss(net_out, Y, q):\n",
    "    return (q * F.relu(net_out - Y)) + ((1 - q) * F.relu(Y - net_out))\n",
    "\n"
   ]
  },
  {
   "cell_type": "code",
   "execution_count": 59,
   "metadata": {},
   "outputs": [],
   "source": [
    "class GLU(torch.nn.Module):\n",
    "    def __init__(self, dim_input):\n",
    "        super(GLU, self).__init__()\n",
    "        self.fc1 = nn.Linear(dim_input, dim_input)\n",
    "        self.fc2 = nn.Linear(dim_input, dim_input)\n",
    "    \n",
    "    def forward(self, x):\n",
    "        return torch.sigmoid(self.fc1(x)) * self.fc2(x) \n"
   ]
  },
  {
   "cell_type": "code",
   "execution_count": 60,
   "metadata": {},
   "outputs": [],
   "source": [
    "class GRN(torch.nn.Module): \n",
    "    def __init__(self, dim_input, dim_out=None, n_hidden=10, dropout_r=0.1):\n",
    "        super(GRN, self).__init__() \n",
    "        if dim_out != None: \n",
    "            self.skip = nn.Linear(dim_input, dim_out) \n",
    "        else:\n",
    "            self.skip = None\n",
    "            dim_out = dim_input \n",
    "        self.fc1 = nn.Linear(dim_input, n_hidden) \n",
    "        self.fc2 = nn.Linear(n_hidden, dim_out) \n",
    "        self.dropout = nn.Dropout(dropout_r) \n",
    "        self.gate = GLU(dim_out) \n",
    "        self.norm = nn.LayerNorm(dim_out) \n",
    "        \n",
    "    def forward(self, x):\n",
    "        a = F.elu(self.fc1(x))\n",
    "        a = self.dropout(self.fc2(a))\n",
    "        a = self.gate(a)\n",
    "        if self.skip != None:\n",
    "            return self.norm(self.skip(x) + a)\n",
    "        return self.norm(x + a)\n",
    "\n"
   ]
  },
  {
   "cell_type": "code",
   "execution_count": 61,
   "metadata": {},
   "outputs": [],
   "source": [
    "class VSN(torch.nn.Module): \n",
    "    def __init__(self, n_var_cont, n_var_disc, dim_model, dropout_r=0.1): \n",
    "        super(VSN, self).__init__()\n",
    "        n_var_total = n_var_cont + len(n_var_disc)\n",
    "        # linear transformation of inputs into dmodel vectors \n",
    "        self.linearise = []\n",
    "        for i in range(n_var_cont): \n",
    "            self.linearise.append(nn.Linear(1, dim_model, bias=False).cuda()) \n",
    "        \n",
    "        self.fc = nn.Linear(1, dim_model, bias=False).cuda()     \n",
    "        # entity embeddings for discrete inputs \n",
    "        self.entity_embed = [] \n",
    "        for i in n_var_disc: \n",
    "            self.entity_embed.append(nn.Linear(i, dim_model, bias=False).cuda())  \n",
    "        \n",
    "        self.input_grn = GRN(dim_model, dropout_r = dropout_r) \n",
    "        self.vs_grn = GRN(n_var_total * dim_model, dim_out=n_var_total, dropout_r = dropout_r)\n",
    "    \n",
    "    # input (batch_size, seq_len, n_variables, input_size)\n",
    "    def forward(self, x_cont, x_disc): \n",
    "        # linearise continuous inputs \n",
    "        linearised = [] \n",
    "        for idx, fc in enumerate(self.linearise): \n",
    "            linearised.append(fc(x_cont[:,:,idx])) \n",
    "        # entity embeddings for discrete inputs \n",
    "        embedded = []\n",
    "        '''\n",
    "        for idx, fc in enumerate(self.entity_embed): \n",
    "            embedded.append(fc(x_disc[:,:,idx]))\n",
    "        '''\n",
    "        for x, fc in zip(x_disc, self.entity_embed): \n",
    "            embedded.append(fc(x)) \n",
    "\n",
    "        if len(self.linearise) != 0 and len(self.entity_embed) != 0: \n",
    "            linearised = torch.stack(linearised, dim=-2) \n",
    "            embedded = torch.stack(embedded, dim=-2)    \n",
    "            vectorised_vars = torch.cat((linearised, embedded), dim=-2) # (batch_size, seq_len, dim_model, n_vars_total)\n",
    "        elif len(self.linearise) != 0 and len(self.entity_embed) == 0: \n",
    "            vectorised_vars = torch.stack(linearised, dim=-2) # (batch_size, seq_len, n_var_cont, dim_model)\n",
    "        elif len(self.entity_embed) != 0 and len(self.linearise) == 0: \n",
    "            vectorised_vars = torch.stack(embedded, dim=-2)\n",
    "        \n",
    "        # flatten everything except accross batch for variable selection weights \n",
    "        vs_weights = self.vs_grn(vectorised_vars.flatten(start_dim=2)) # (batch_size, seq_len, n_variables)\n",
    "        vs_weights = torch.softmax(vs_weights, dim=-1).unsqueeze(-1) # (batch_size, seq_len, n_variables, 1) \n",
    "        \n",
    "        # input_grn applied to every input separately \n",
    "        input_weights = self.input_grn(vectorised_vars) # (batch_size, seq_len, n_variables, dim_model)\n",
    "        \n",
    "        x = torch.sum((vs_weights * input_weights), dim = 2) \n",
    "        return x, vs_weights # returns (batch_size, seq_len, dim_model)\n"
   ]
  },
  {
   "cell_type": "code",
   "execution_count": 62,
   "metadata": {},
   "outputs": [],
   "source": [
    "class LSTMLayer(torch.nn.Module): \n",
    "    def __init__(self, dim_model, n_layers = 1, dropout_r = 0.1):\n",
    "        super(LSTMLayer, self).__init__()\n",
    "        self.n_layers = n_layers \n",
    "        self.dim_model = dim_model \n",
    "        self.lstm = nn.LSTM(dim_model, dim_model, num_layers = n_layers, batch_first = True) \n",
    "        self.hidden = None\n",
    "        self.dropout = nn.Dropout(dropout_r) \n",
    "    \n",
    "    # takes input (batch_size, seq_len, dim_model)\n",
    "    def forward(self, x): \n",
    "        if self.hidden == None: \n",
    "            raise Exception(\"Call reset() to initialise LSTM Layer\") \n",
    "            \n",
    "        x, self.hidden = self.lstm(x, self.hidden) \n",
    "        x = self.dropout(x) \n",
    "        return x, self.hidden # returns (batch_size, seq_len, dim_model), hidden \n",
    "    \n",
    "    def reset(self, batch_size, gpu = True): \n",
    "        if not gpu: \n",
    "            dtype = torch.FloatTensor \n",
    "        else: \n",
    "            dtype = torch.cuda.FloatTensor\n",
    "        self.hidden = (torch.zeros([self.n_layers, batch_size, self.dim_model]).type(dtype),\n",
    "                       torch.zeros([self.n_layers, batch_size, self.dim_model]).type(dtype)) \n"
   ]
  },
  {
   "cell_type": "code",
   "execution_count": 63,
   "metadata": {},
   "outputs": [],
   "source": [
    "class TFN(torch.nn.Module): \n",
    "    def __init__(self, \n",
    "                 n_var_past_cont, \n",
    "                 n_var_future_cont,\n",
    "                 n_var_past_disc, \n",
    "                 n_var_future_disc,\n",
    "                 dim_model,\n",
    "                 n_quantiles = 1, \n",
    "                 dropout_r = 0.1,\n",
    "                 n_lstm_layers = 1,\n",
    "                 n_attention_layers = 1,\n",
    "                 n_heads = 4):\n",
    "        super(TFN, self).__init__()\n",
    "        self.vs_past = VSN(n_var_past_cont, n_var_past_disc, dim_model, dropout_r = dropout_r) \n",
    "        self.vs_future = VSN(n_var_future_cont, n_var_future_disc, dim_model, dropout_r = dropout_r)\n",
    "        \n",
    "        self.enc = LSTMLayer(dim_model, dropout_r = dropout_r, n_layers = n_lstm_layers) \n",
    "        self.dec = LSTMLayer(dim_model, dropout_r = dropout_r, n_layers = n_lstm_layers) \n",
    "        \n",
    "        self.gate1 = GLU(dim_model) \n",
    "        self.norm1 = nn.LayerNorm(dim_model) \n",
    "        \n",
    "        self.static_enrich_grn = GRN(dim_model, dropout_r = dropout_r)\n",
    "        \n",
    "        self.attention = [] \n",
    "        for i in range(n_attention_layers): \n",
    "            self.attention.append([MultiHeadAttentionBlock(dim_model, dim_model, n_heads = n_heads).cuda(),\n",
    "                                   nn.LayerNorm(dim_model).cuda()]) \n",
    "        \n",
    "        self.norm2 = nn.LayerNorm(dim_model) \n",
    "        self.positionwise_grn = GRN(dim_model, dropout_r = dropout_r) \n",
    "        self.norm3 = nn.LayerNorm(dim_model) \n",
    "        self.dropout = nn.Dropout(dropout_r) \n",
    "        self.fc_out = nn.Linear(dim_model, n_quantiles) \n",
    "        \n",
    "    # takes input (batch_size, past_seq_len, n_variables_past) \n",
    "    # and (batch_size, future_seq_len, n_variables_future) \n",
    "    def forward(self, x_past_cont, x_past_disc, x_future_cont, x_future_disc):\n",
    "        # Encoder \n",
    "        x_past, vs_weights = self.vs_past(x_past_cont, x_past_disc) \n",
    "        e, e_hidden = self.enc(x_past) \n",
    "        self.dec_hidden = e_hidden \n",
    "        e = self.dropout(e) \n",
    "        x_past = self.norm1(self.gate1(e) + x_past) \n",
    "\n",
    "        # Decoder\n",
    "        x_future, _ = self.vs_future(x_future_cont, x_future_disc) \n",
    "        d, _ = self.dec(x_future) \n",
    "        d = self.dropout(d) \n",
    "        x_future = self.norm1(self.gate1(d) + x_future) \n",
    "\n",
    "        # static enrichment\n",
    "        x = torch.cat((x_past, x_future), dim=1) # (batch_size, past_seq_len + future_seq_len, dim_model)\n",
    "        attention_res = x_future\n",
    "        x = self.static_enrich_grn(x) \n",
    "\n",
    "        # attention layer \n",
    "        a = self.attention[0][1](self.attention[0][0](x) + x) \n",
    "        for at in self.attention[1:]:\n",
    "            a = at[1](at[0](a) + a) \n",
    "        x_future = self.norm2(a[:, x_past.shape[1]:] + x_future) \n",
    "        a = self.positionwise_grn(x_future) \n",
    "        x_future = self.norm3(a + x_future + attention_res) \n",
    "        net_out = self.fc_out(x_future)  \n",
    "        return net_out, vs_weights \n",
    "\n",
    "    def reset(self, batch_size, gpu = True): \n",
    "        self.enc.reset(batch_size, gpu) \n",
    "        self.dec.reset(batch_size, gpu) \n"
   ]
  },
  {
   "cell_type": "code",
   "execution_count": 87,
   "metadata": {},
   "outputs": [
    {
     "data": {
      "text/plain": [
       "TFN(\n",
       "  (vs_past): VSN(\n",
       "    (fc): Linear(in_features=1, out_features=160, bias=False)\n",
       "    (input_grn): GRN(\n",
       "      (fc1): Linear(in_features=160, out_features=10, bias=True)\n",
       "      (fc2): Linear(in_features=10, out_features=160, bias=True)\n",
       "      (dropout): Dropout(p=0.1, inplace=False)\n",
       "      (gate): GLU(\n",
       "        (fc1): Linear(in_features=160, out_features=160, bias=True)\n",
       "        (fc2): Linear(in_features=160, out_features=160, bias=True)\n",
       "      )\n",
       "      (norm): LayerNorm((160,), eps=1e-05, elementwise_affine=True)\n",
       "    )\n",
       "    (vs_grn): GRN(\n",
       "      (skip): Linear(in_features=5440, out_features=34, bias=True)\n",
       "      (fc1): Linear(in_features=5440, out_features=10, bias=True)\n",
       "      (fc2): Linear(in_features=10, out_features=34, bias=True)\n",
       "      (dropout): Dropout(p=0.1, inplace=False)\n",
       "      (gate): GLU(\n",
       "        (fc1): Linear(in_features=34, out_features=34, bias=True)\n",
       "        (fc2): Linear(in_features=34, out_features=34, bias=True)\n",
       "      )\n",
       "      (norm): LayerNorm((34,), eps=1e-05, elementwise_affine=True)\n",
       "    )\n",
       "  )\n",
       "  (vs_future): VSN(\n",
       "    (fc): Linear(in_features=1, out_features=160, bias=False)\n",
       "    (input_grn): GRN(\n",
       "      (fc1): Linear(in_features=160, out_features=10, bias=True)\n",
       "      (fc2): Linear(in_features=10, out_features=160, bias=True)\n",
       "      (dropout): Dropout(p=0.1, inplace=False)\n",
       "      (gate): GLU(\n",
       "        (fc1): Linear(in_features=160, out_features=160, bias=True)\n",
       "        (fc2): Linear(in_features=160, out_features=160, bias=True)\n",
       "      )\n",
       "      (norm): LayerNorm((160,), eps=1e-05, elementwise_affine=True)\n",
       "    )\n",
       "    (vs_grn): GRN(\n",
       "      (skip): Linear(in_features=480, out_features=3, bias=True)\n",
       "      (fc1): Linear(in_features=480, out_features=10, bias=True)\n",
       "      (fc2): Linear(in_features=10, out_features=3, bias=True)\n",
       "      (dropout): Dropout(p=0.1, inplace=False)\n",
       "      (gate): GLU(\n",
       "        (fc1): Linear(in_features=3, out_features=3, bias=True)\n",
       "        (fc2): Linear(in_features=3, out_features=3, bias=True)\n",
       "      )\n",
       "      (norm): LayerNorm((3,), eps=1e-05, elementwise_affine=True)\n",
       "    )\n",
       "  )\n",
       "  (enc): LSTMLayer(\n",
       "    (lstm): LSTM(160, 160, batch_first=True)\n",
       "    (dropout): Dropout(p=0.1, inplace=False)\n",
       "  )\n",
       "  (dec): LSTMLayer(\n",
       "    (lstm): LSTM(160, 160, batch_first=True)\n",
       "    (dropout): Dropout(p=0.1, inplace=False)\n",
       "  )\n",
       "  (gate1): GLU(\n",
       "    (fc1): Linear(in_features=160, out_features=160, bias=True)\n",
       "    (fc2): Linear(in_features=160, out_features=160, bias=True)\n",
       "  )\n",
       "  (norm1): LayerNorm((160,), eps=1e-05, elementwise_affine=True)\n",
       "  (static_enrich_grn): GRN(\n",
       "    (fc1): Linear(in_features=160, out_features=10, bias=True)\n",
       "    (fc2): Linear(in_features=10, out_features=160, bias=True)\n",
       "    (dropout): Dropout(p=0.1, inplace=False)\n",
       "    (gate): GLU(\n",
       "      (fc1): Linear(in_features=160, out_features=160, bias=True)\n",
       "      (fc2): Linear(in_features=160, out_features=160, bias=True)\n",
       "    )\n",
       "    (norm): LayerNorm((160,), eps=1e-05, elementwise_affine=True)\n",
       "  )\n",
       "  (norm2): LayerNorm((160,), eps=1e-05, elementwise_affine=True)\n",
       "  (positionwise_grn): GRN(\n",
       "    (fc1): Linear(in_features=160, out_features=10, bias=True)\n",
       "    (fc2): Linear(in_features=10, out_features=160, bias=True)\n",
       "    (dropout): Dropout(p=0.1, inplace=False)\n",
       "    (gate): GLU(\n",
       "      (fc1): Linear(in_features=160, out_features=160, bias=True)\n",
       "      (fc2): Linear(in_features=160, out_features=160, bias=True)\n",
       "    )\n",
       "    (norm): LayerNorm((160,), eps=1e-05, elementwise_affine=True)\n",
       "  )\n",
       "  (norm3): LayerNorm((160,), eps=1e-05, elementwise_affine=True)\n",
       "  (dropout): Dropout(p=0.1, inplace=False)\n",
       "  (fc_out): Linear(in_features=160, out_features=1, bias=True)\n",
       ")"
      ]
     },
     "execution_count": 87,
     "metadata": {},
     "output_type": "execute_result"
    }
   ],
   "source": [
    "features = train_cont.shape[2]\n",
    "\n",
    "model = TFN(n_var_past_cont = features,\n",
    "            n_var_future_cont = 0, \n",
    "            n_var_past_disc = [13, 32, 25], # months, days, hours\n",
    "            n_var_future_disc = [13, 32, 25],\n",
    "            dim_model = 160) \n",
    "\n",
    "model.cuda()"
   ]
  },
  {
   "cell_type": "code",
   "execution_count": 88,
   "metadata": {},
   "outputs": [],
   "source": [
    "device = torch.device('cuda')\n",
    "\n",
    "epochs = 50\n",
    "\n",
    "optimizer = torch.optim.Adam(model.parameters(), lr=2e-5) \n",
    "\n",
    "train_losses, val_losses = [], []  \n",
    "\n",
    "criterion = nn.MSELoss()  \n",
    "\n",
    "total_steps = len(train_dataloader) * epochs\n",
    "\n",
    "scheduler = get_linear_schedule_with_warmup(optimizer, num_warmup_steps=0, num_training_steps=total_steps)\n"
   ]
  },
  {
   "cell_type": "code",
   "execution_count": 89,
   "metadata": {},
   "outputs": [],
   "source": [
    "def evaluate(data_dataloader): \n",
    "    eval_loss = 0 \n",
    "    for step, batch in enumerate(tqdm(data_dataloader, desc=\"Validation\", smoothing=0.05, position=0, leave=True)): \n",
    "        past_cont = batch['past_cont'].to(device) \n",
    "        past_disc = batch['past_disc'].to(device) \n",
    "        target_seq = batch['target_seq'].to(device) \n",
    "        future_disc = batch['future_disc'].to(device)\n",
    "        \n",
    "        past_disc = one_hot(past_disc, [13, 32, 25]) \n",
    "        future_disc = one_hot(future_disc, [13, 32, 25]) \n",
    "        \n",
    "        model.reset(batch_size=past_cont.shape[0], gpu=True) \n",
    "        with torch.no_grad():\n",
    "            net_out, vs_weights = model(past_cont, past_disc, None, future_disc)  \n",
    "        loss = criterion(net_out, target_seq)\n",
    "        eval_loss += loss.item() \n",
    "    avg_val_loss = eval_loss / len(data_dataloader)    \n",
    "    return avg_val_loss, net_out, vs_weights\n",
    "\n",
    "# for processing discrete features \n",
    "def one_hot(x, dims, gpu = True):\n",
    "    out = []\n",
    "    batch_size = x.shape[0]\n",
    "    seq_len = x.shape[1]\n",
    "    \n",
    "    if(not gpu):\n",
    "        dtype = torch.FloatTensor\n",
    "    else:\n",
    "        dtype = torch.cuda.FloatTensor\n",
    "    \n",
    "    # print(\"Converting to one hot vector\")\n",
    "    for i in range(0, x.shape[-1]): # get rid of tqdm for training \n",
    "        x_ = x[:,:,i].byte().cpu().long().unsqueeze(-1)\n",
    "        o = torch.zeros([batch_size, seq_len, dims[i]]).long()\n",
    "\n",
    "        o.scatter_(-1, x_,  1)\n",
    "        out.append(o.type(dtype))\n",
    "    return out\n"
   ]
  },
  {
   "cell_type": "code",
   "execution_count": null,
   "metadata": {},
   "outputs": [
    {
     "name": "stderr",
     "output_type": "stream",
     "text": [
      "\r",
      "Epochs:   0%|          | 0/50 [00:00<?, ?it/s]"
     ]
    },
    {
     "name": "stdout",
     "output_type": "stream",
     "text": [
      "\n",
      "======= Epoch 1 / 50 =======\n",
      "Training...\n"
     ]
    },
    {
     "name": "stderr",
     "output_type": "stream",
     "text": [
      "Training:   0%|          | 0/228 [00:00<?, ?it/s]/usr/local/lib/python3.6/dist-packages/ipykernel_launcher.py:15: UserWarning: To copy construct from a tensor, it is recommended to use sourceTensor.clone().detach() or sourceTensor.clone().detach().requires_grad_(True), rather than torch.tensor(sourceTensor).\n",
      "  from ipykernel import kernelapp as app\n",
      "/usr/local/lib/python3.6/dist-packages/ipykernel_launcher.py:16: UserWarning: To copy construct from a tensor, it is recommended to use sourceTensor.clone().detach() or sourceTensor.clone().detach().requires_grad_(True), rather than torch.tensor(sourceTensor).\n",
      "  app.launch_new_instance()\n",
      "/usr/local/lib/python3.6/dist-packages/ipykernel_launcher.py:17: UserWarning: To copy construct from a tensor, it is recommended to use sourceTensor.clone().detach() or sourceTensor.clone().detach().requires_grad_(True), rather than torch.tensor(sourceTensor).\n",
      "/usr/local/lib/python3.6/dist-packages/ipykernel_launcher.py:18: UserWarning: To copy construct from a tensor, it is recommended to use sourceTensor.clone().detach() or sourceTensor.clone().detach().requires_grad_(True), rather than torch.tensor(sourceTensor).\n",
      "Training: 100%|██████████| 228/228 [00:18<00:00, 12.15it/s]\n"
     ]
    },
    {
     "name": "stdout",
     "output_type": "stream",
     "text": [
      "Validating...\n"
     ]
    },
    {
     "name": "stderr",
     "output_type": "stream",
     "text": [
      "Validation: 100%|██████████| 29/29 [00:00<00:00, 65.80it/s]\n",
      "Epochs:   2%|▏         | 1/50 [00:19<15:41, 19.22s/it]"
     ]
    },
    {
     "name": "stdout",
     "output_type": "stream",
     "text": [
      "Saving Best Checkpoint...\n",
      "\n",
      "======= Epoch 2 / 50 =======\n",
      "Training...\n"
     ]
    },
    {
     "name": "stderr",
     "output_type": "stream",
     "text": [
      "Training: 100%|██████████| 228/228 [00:11<00:00, 19.11it/s]\n"
     ]
    },
    {
     "name": "stdout",
     "output_type": "stream",
     "text": [
      "Validating...\n"
     ]
    },
    {
     "name": "stderr",
     "output_type": "stream",
     "text": [
      "Validation: 100%|██████████| 29/29 [00:00<00:00, 76.26it/s]\n",
      "Epochs:   4%|▍         | 2/50 [00:31<12:08, 15.17s/it]"
     ]
    },
    {
     "name": "stdout",
     "output_type": "stream",
     "text": [
      "Saving Best Checkpoint...\n",
      "\n",
      "======= Epoch 3 / 50 =======\n",
      "Training...\n"
     ]
    },
    {
     "name": "stderr",
     "output_type": "stream",
     "text": [
      "Training: 100%|██████████| 228/228 [00:11<00:00, 20.67it/s]\n"
     ]
    },
    {
     "name": "stdout",
     "output_type": "stream",
     "text": [
      "Validating...\n"
     ]
    },
    {
     "name": "stderr",
     "output_type": "stream",
     "text": [
      "Validation: 100%|██████████| 29/29 [00:00<00:00, 61.96it/s]\n",
      "Epochs:   6%|▌         | 3/50 [00:43<10:34, 13.50s/it]"
     ]
    },
    {
     "name": "stdout",
     "output_type": "stream",
     "text": [
      "Saving Best Checkpoint...\n",
      "\n",
      "======= Epoch 4 / 50 =======\n",
      "Training...\n"
     ]
    },
    {
     "name": "stderr",
     "output_type": "stream",
     "text": [
      "Training: 100%|██████████| 228/228 [00:11<00:00, 20.03it/s]\n"
     ]
    },
    {
     "name": "stdout",
     "output_type": "stream",
     "text": [
      "Validating...\n"
     ]
    },
    {
     "name": "stderr",
     "output_type": "stream",
     "text": [
      "Validation: 100%|██████████| 29/29 [00:00<00:00, 74.09it/s]\n",
      "Epochs:   8%|▊         | 4/50 [00:54<09:50, 12.83s/it]"
     ]
    },
    {
     "name": "stdout",
     "output_type": "stream",
     "text": [
      "Saving Best Checkpoint...\n",
      "\n",
      "======= Epoch 5 / 50 =======\n",
      "Training...\n"
     ]
    },
    {
     "name": "stderr",
     "output_type": "stream",
     "text": [
      "Training: 100%|██████████| 228/228 [00:11<00:00, 20.16it/s]\n"
     ]
    },
    {
     "name": "stdout",
     "output_type": "stream",
     "text": [
      "Validating...\n"
     ]
    },
    {
     "name": "stderr",
     "output_type": "stream",
     "text": [
      "Validation: 100%|██████████| 29/29 [00:00<00:00, 69.16it/s]\n",
      "Epochs:  10%|█         | 5/50 [01:06<09:19, 12.44s/it]"
     ]
    },
    {
     "name": "stdout",
     "output_type": "stream",
     "text": [
      "Saving Best Checkpoint...\n",
      "\n",
      "======= Epoch 6 / 50 =======\n",
      "Training...\n"
     ]
    },
    {
     "name": "stderr",
     "output_type": "stream",
     "text": [
      "Training: 100%|██████████| 228/228 [00:12<00:00, 18.94it/s]\n"
     ]
    },
    {
     "name": "stdout",
     "output_type": "stream",
     "text": [
      "Validating...\n"
     ]
    },
    {
     "name": "stderr",
     "output_type": "stream",
     "text": [
      "Validation: 100%|██████████| 29/29 [00:00<00:00, 70.01it/s]\n",
      "Epochs:  12%|█▏        | 6/50 [01:19<09:07, 12.45s/it]"
     ]
    },
    {
     "name": "stdout",
     "output_type": "stream",
     "text": [
      "Saving Best Checkpoint...\n",
      "\n",
      "======= Epoch 7 / 50 =======\n",
      "Training...\n"
     ]
    },
    {
     "name": "stderr",
     "output_type": "stream",
     "text": [
      "Training: 100%|██████████| 228/228 [00:11<00:00, 19.45it/s]\n"
     ]
    },
    {
     "name": "stdout",
     "output_type": "stream",
     "text": [
      "Validating...\n"
     ]
    },
    {
     "name": "stderr",
     "output_type": "stream",
     "text": [
      "Validation: 100%|██████████| 29/29 [00:00<00:00, 53.44it/s]\n",
      "Epochs:  14%|█▍        | 7/50 [01:31<08:53, 12.40s/it]"
     ]
    },
    {
     "name": "stdout",
     "output_type": "stream",
     "text": [
      "Saving Best Checkpoint...\n",
      "\n",
      "======= Epoch 8 / 50 =======\n",
      "Training...\n"
     ]
    },
    {
     "name": "stderr",
     "output_type": "stream",
     "text": [
      "Training: 100%|██████████| 228/228 [00:11<00:00, 19.92it/s]\n"
     ]
    },
    {
     "name": "stdout",
     "output_type": "stream",
     "text": [
      "Validating...\n"
     ]
    },
    {
     "name": "stderr",
     "output_type": "stream",
     "text": [
      "Validation: 100%|██████████| 29/29 [00:00<00:00, 71.38it/s]\n",
      "Epochs:  16%|█▌        | 8/50 [01:43<08:33, 12.23s/it]"
     ]
    },
    {
     "name": "stdout",
     "output_type": "stream",
     "text": [
      "\n",
      "======= Epoch 9 / 50 =======\n",
      "Training...\n"
     ]
    },
    {
     "name": "stderr",
     "output_type": "stream",
     "text": [
      "Training: 100%|██████████| 228/228 [00:11<00:00, 19.84it/s]\n"
     ]
    },
    {
     "name": "stdout",
     "output_type": "stream",
     "text": [
      "Validating...\n"
     ]
    },
    {
     "name": "stderr",
     "output_type": "stream",
     "text": [
      "Validation: 100%|██████████| 29/29 [00:00<00:00, 70.29it/s]\n",
      "Epochs:  18%|█▊        | 9/50 [01:55<08:17, 12.13s/it]"
     ]
    },
    {
     "name": "stdout",
     "output_type": "stream",
     "text": [
      "\n",
      "======= Epoch 10 / 50 =======\n",
      "Training...\n"
     ]
    },
    {
     "name": "stderr",
     "output_type": "stream",
     "text": [
      "Training: 100%|██████████| 228/228 [00:11<00:00, 20.51it/s]\n"
     ]
    },
    {
     "name": "stdout",
     "output_type": "stream",
     "text": [
      "Validating...\n"
     ]
    },
    {
     "name": "stderr",
     "output_type": "stream",
     "text": [
      "Validation: 100%|██████████| 29/29 [00:00<00:00, 77.72it/s]\n",
      "Epochs:  20%|██        | 10/50 [02:06<07:57, 11.94s/it]"
     ]
    },
    {
     "name": "stdout",
     "output_type": "stream",
     "text": [
      "Saving Best Checkpoint...\n",
      "\n",
      "======= Epoch 11 / 50 =======\n",
      "Training...\n"
     ]
    },
    {
     "name": "stderr",
     "output_type": "stream",
     "text": [
      "Training: 100%|██████████| 228/228 [00:11<00:00, 20.56it/s]\n"
     ]
    },
    {
     "name": "stdout",
     "output_type": "stream",
     "text": [
      "Validating...\n"
     ]
    },
    {
     "name": "stderr",
     "output_type": "stream",
     "text": [
      "Validation: 100%|██████████| 29/29 [00:00<00:00, 64.91it/s]\n",
      "Epochs:  22%|██▏       | 11/50 [02:18<07:41, 11.82s/it]"
     ]
    },
    {
     "name": "stdout",
     "output_type": "stream",
     "text": [
      "Saving Best Checkpoint...\n",
      "\n",
      "======= Epoch 12 / 50 =======\n",
      "Training...\n"
     ]
    },
    {
     "name": "stderr",
     "output_type": "stream",
     "text": [
      "Training: 100%|██████████| 228/228 [00:11<00:00, 19.81it/s]\n"
     ]
    },
    {
     "name": "stdout",
     "output_type": "stream",
     "text": [
      "Validating...\n"
     ]
    },
    {
     "name": "stderr",
     "output_type": "stream",
     "text": [
      "Validation: 100%|██████████| 29/29 [00:00<00:00, 66.81it/s]\n",
      "Epochs:  24%|██▍       | 12/50 [02:30<07:30, 11.86s/it]"
     ]
    },
    {
     "name": "stdout",
     "output_type": "stream",
     "text": [
      "Saving Best Checkpoint...\n",
      "\n",
      "======= Epoch 13 / 50 =======\n",
      "Training...\n"
     ]
    },
    {
     "name": "stderr",
     "output_type": "stream",
     "text": [
      "Training: 100%|██████████| 228/228 [00:11<00:00, 20.31it/s]\n"
     ]
    },
    {
     "name": "stdout",
     "output_type": "stream",
     "text": [
      "Validating...\n"
     ]
    },
    {
     "name": "stderr",
     "output_type": "stream",
     "text": [
      "Validation: 100%|██████████| 29/29 [00:00<00:00, 72.20it/s]\n",
      "Epochs:  26%|██▌       | 13/50 [02:41<07:16, 11.80s/it]"
     ]
    },
    {
     "name": "stdout",
     "output_type": "stream",
     "text": [
      "\n",
      "======= Epoch 14 / 50 =======\n",
      "Training...\n"
     ]
    },
    {
     "name": "stderr",
     "output_type": "stream",
     "text": [
      "Training: 100%|██████████| 228/228 [00:11<00:00, 20.60it/s]\n"
     ]
    },
    {
     "name": "stdout",
     "output_type": "stream",
     "text": [
      "Validating...\n"
     ]
    },
    {
     "name": "stderr",
     "output_type": "stream",
     "text": [
      "Validation: 100%|██████████| 29/29 [00:00<00:00, 72.97it/s]\n",
      "Epochs:  28%|██▊       | 14/50 [02:53<07:01, 11.70s/it]"
     ]
    },
    {
     "name": "stdout",
     "output_type": "stream",
     "text": [
      "\n",
      "======= Epoch 15 / 50 =======\n",
      "Training...\n"
     ]
    },
    {
     "name": "stderr",
     "output_type": "stream",
     "text": [
      "Training: 100%|██████████| 228/228 [00:11<00:00, 19.81it/s]\n"
     ]
    },
    {
     "name": "stdout",
     "output_type": "stream",
     "text": [
      "Validating...\n"
     ]
    },
    {
     "name": "stderr",
     "output_type": "stream",
     "text": [
      "Validation: 100%|██████████| 29/29 [00:00<00:00, 73.16it/s]\n",
      "Epochs:  30%|███       | 15/50 [03:05<06:51, 11.77s/it]"
     ]
    },
    {
     "name": "stdout",
     "output_type": "stream",
     "text": [
      "Saving Best Checkpoint...\n",
      "\n",
      "======= Epoch 16 / 50 =======\n",
      "Training...\n"
     ]
    },
    {
     "name": "stderr",
     "output_type": "stream",
     "text": [
      "Training: 100%|██████████| 228/228 [00:11<00:00, 20.56it/s]\n"
     ]
    },
    {
     "name": "stdout",
     "output_type": "stream",
     "text": [
      "Validating...\n"
     ]
    },
    {
     "name": "stderr",
     "output_type": "stream",
     "text": [
      "Validation: 100%|██████████| 29/29 [00:00<00:00, 74.01it/s]\n",
      "Epochs:  32%|███▏      | 16/50 [03:16<06:37, 11.68s/it]"
     ]
    },
    {
     "name": "stdout",
     "output_type": "stream",
     "text": [
      "\n",
      "======= Epoch 17 / 50 =======\n",
      "Training...\n"
     ]
    },
    {
     "name": "stderr",
     "output_type": "stream",
     "text": [
      "Training: 100%|██████████| 228/228 [00:10<00:00, 20.82it/s]\n"
     ]
    },
    {
     "name": "stdout",
     "output_type": "stream",
     "text": [
      "Validating...\n"
     ]
    },
    {
     "name": "stderr",
     "output_type": "stream",
     "text": [
      "Validation: 100%|██████████| 29/29 [00:00<00:00, 74.00it/s]\n",
      "Epochs:  34%|███▍      | 17/50 [03:28<06:22, 11.59s/it]"
     ]
    },
    {
     "name": "stdout",
     "output_type": "stream",
     "text": [
      "Saving Best Checkpoint...\n",
      "\n",
      "======= Epoch 18 / 50 =======\n",
      "Training...\n"
     ]
    },
    {
     "name": "stderr",
     "output_type": "stream",
     "text": [
      "Training: 100%|██████████| 228/228 [00:11<00:00, 20.28it/s]\n"
     ]
    },
    {
     "name": "stdout",
     "output_type": "stream",
     "text": [
      "Validating...\n"
     ]
    },
    {
     "name": "stderr",
     "output_type": "stream",
     "text": [
      "Validation: 100%|██████████| 29/29 [00:00<00:00, 70.30it/s]\n",
      "Epochs:  36%|███▌      | 18/50 [03:39<06:11, 11.61s/it]"
     ]
    },
    {
     "name": "stdout",
     "output_type": "stream",
     "text": [
      "\n",
      "======= Epoch 19 / 50 =======\n",
      "Training...\n"
     ]
    },
    {
     "name": "stderr",
     "output_type": "stream",
     "text": [
      "Training: 100%|██████████| 228/228 [00:10<00:00, 20.87it/s]\n"
     ]
    },
    {
     "name": "stdout",
     "output_type": "stream",
     "text": [
      "Validating...\n"
     ]
    },
    {
     "name": "stderr",
     "output_type": "stream",
     "text": [
      "Validation: 100%|██████████| 29/29 [00:00<00:00, 72.93it/s]\n",
      "Epochs:  38%|███▊      | 19/50 [03:51<05:57, 11.52s/it]"
     ]
    },
    {
     "name": "stdout",
     "output_type": "stream",
     "text": [
      "\n",
      "======= Epoch 20 / 50 =======\n",
      "Training...\n"
     ]
    },
    {
     "name": "stderr",
     "output_type": "stream",
     "text": [
      "Training: 100%|██████████| 228/228 [00:11<00:00, 20.08it/s]\n"
     ]
    },
    {
     "name": "stdout",
     "output_type": "stream",
     "text": [
      "Validating...\n"
     ]
    },
    {
     "name": "stderr",
     "output_type": "stream",
     "text": [
      "Validation: 100%|██████████| 29/29 [00:00<00:00, 68.77it/s]\n",
      "Epochs:  40%|████      | 20/50 [04:02<05:48, 11.60s/it]"
     ]
    },
    {
     "name": "stdout",
     "output_type": "stream",
     "text": [
      "\n",
      "======= Epoch 21 / 50 =======\n",
      "Training...\n"
     ]
    },
    {
     "name": "stderr",
     "output_type": "stream",
     "text": [
      "Training: 100%|██████████| 228/228 [00:11<00:00, 20.08it/s]\n"
     ]
    },
    {
     "name": "stdout",
     "output_type": "stream",
     "text": [
      "Validating...\n"
     ]
    },
    {
     "name": "stderr",
     "output_type": "stream",
     "text": [
      "Validation: 100%|██████████| 29/29 [00:00<00:00, 69.50it/s]\n",
      "Epochs:  42%|████▏     | 21/50 [04:14<05:38, 11.66s/it]"
     ]
    },
    {
     "name": "stdout",
     "output_type": "stream",
     "text": [
      "\n",
      "======= Epoch 22 / 50 =======\n",
      "Training...\n"
     ]
    },
    {
     "name": "stderr",
     "output_type": "stream",
     "text": [
      "Training: 100%|██████████| 228/228 [00:12<00:00, 18.41it/s]\n"
     ]
    },
    {
     "name": "stdout",
     "output_type": "stream",
     "text": [
      "Validating...\n"
     ]
    },
    {
     "name": "stderr",
     "output_type": "stream",
     "text": [
      "Validation: 100%|██████████| 29/29 [00:00<00:00, 65.94it/s]\n",
      "Epochs:  44%|████▍     | 22/50 [04:27<05:36, 12.01s/it]"
     ]
    },
    {
     "name": "stdout",
     "output_type": "stream",
     "text": [
      "Saving Best Checkpoint...\n",
      "\n",
      "======= Epoch 23 / 50 =======\n",
      "Training...\n"
     ]
    },
    {
     "name": "stderr",
     "output_type": "stream",
     "text": [
      "Training: 100%|██████████| 228/228 [00:11<00:00, 19.34it/s]\n"
     ]
    },
    {
     "name": "stdout",
     "output_type": "stream",
     "text": [
      "Validating...\n"
     ]
    },
    {
     "name": "stderr",
     "output_type": "stream",
     "text": [
      "Validation: 100%|██████████| 29/29 [00:00<00:00, 70.23it/s]\n",
      "Epochs:  46%|████▌     | 23/50 [04:39<05:25, 12.07s/it]"
     ]
    },
    {
     "name": "stdout",
     "output_type": "stream",
     "text": [
      "\n",
      "======= Epoch 24 / 50 =======\n",
      "Training...\n"
     ]
    },
    {
     "name": "stderr",
     "output_type": "stream",
     "text": [
      "Training: 100%|██████████| 228/228 [00:11<00:00, 20.56it/s]\n"
     ]
    },
    {
     "name": "stdout",
     "output_type": "stream",
     "text": [
      "Validating...\n"
     ]
    },
    {
     "name": "stderr",
     "output_type": "stream",
     "text": [
      "Validation: 100%|██████████| 29/29 [00:00<00:00, 67.95it/s]\n",
      "Epochs:  48%|████▊     | 24/50 [04:51<05:09, 11.91s/it]"
     ]
    },
    {
     "name": "stdout",
     "output_type": "stream",
     "text": [
      "Saving Best Checkpoint...\n",
      "\n",
      "======= Epoch 25 / 50 =======\n",
      "Training...\n"
     ]
    },
    {
     "name": "stderr",
     "output_type": "stream",
     "text": [
      "Training: 100%|██████████| 228/228 [00:11<00:00, 20.10it/s]\n"
     ]
    },
    {
     "name": "stdout",
     "output_type": "stream",
     "text": [
      "Validating...\n"
     ]
    },
    {
     "name": "stderr",
     "output_type": "stream",
     "text": [
      "Validation: 100%|██████████| 29/29 [00:00<00:00, 70.15it/s]\n",
      "Epochs:  50%|█████     | 25/50 [05:02<04:56, 11.87s/it]"
     ]
    },
    {
     "name": "stdout",
     "output_type": "stream",
     "text": [
      "\n",
      "======= Epoch 26 / 50 =======\n",
      "Training...\n"
     ]
    },
    {
     "name": "stderr",
     "output_type": "stream",
     "text": [
      "Training: 100%|██████████| 228/228 [00:11<00:00, 20.70it/s]\n"
     ]
    },
    {
     "name": "stdout",
     "output_type": "stream",
     "text": [
      "Validating...\n"
     ]
    },
    {
     "name": "stderr",
     "output_type": "stream",
     "text": [
      "Validation: 100%|██████████| 29/29 [00:00<00:00, 73.21it/s]\n",
      "Epochs:  52%|█████▏    | 26/50 [05:14<04:41, 11.73s/it]"
     ]
    },
    {
     "name": "stdout",
     "output_type": "stream",
     "text": [
      "\n",
      "======= Epoch 27 / 50 =======\n",
      "Training...\n"
     ]
    },
    {
     "name": "stderr",
     "output_type": "stream",
     "text": [
      "Training: 100%|██████████| 228/228 [00:11<00:00, 20.01it/s]\n"
     ]
    },
    {
     "name": "stdout",
     "output_type": "stream",
     "text": [
      "Validating...\n"
     ]
    },
    {
     "name": "stderr",
     "output_type": "stream",
     "text": [
      "Validation: 100%|██████████| 29/29 [00:00<00:00, 73.01it/s]\n",
      "Epochs:  54%|█████▍    | 27/50 [05:26<04:30, 11.75s/it]"
     ]
    },
    {
     "name": "stdout",
     "output_type": "stream",
     "text": [
      "\n",
      "======= Epoch 28 / 50 =======\n",
      "Training...\n"
     ]
    },
    {
     "name": "stderr",
     "output_type": "stream",
     "text": [
      "Training: 100%|██████████| 228/228 [00:11<00:00, 20.65it/s]\n"
     ]
    },
    {
     "name": "stdout",
     "output_type": "stream",
     "text": [
      "Validating...\n"
     ]
    },
    {
     "name": "stderr",
     "output_type": "stream",
     "text": [
      "Validation: 100%|██████████| 29/29 [00:00<00:00, 68.33it/s]\n",
      "Epochs:  56%|█████▌    | 28/50 [05:37<04:16, 11.67s/it]"
     ]
    },
    {
     "name": "stdout",
     "output_type": "stream",
     "text": [
      "\n",
      "======= Epoch 29 / 50 =======\n",
      "Training...\n"
     ]
    },
    {
     "name": "stderr",
     "output_type": "stream",
     "text": [
      "Training: 100%|██████████| 228/228 [00:11<00:00, 19.40it/s]\n"
     ]
    },
    {
     "name": "stdout",
     "output_type": "stream",
     "text": [
      "Validating...\n"
     ]
    },
    {
     "name": "stderr",
     "output_type": "stream",
     "text": [
      "Validation: 100%|██████████| 29/29 [00:00<00:00, 66.16it/s]\n",
      "Epochs:  58%|█████▊    | 29/50 [05:49<04:08, 11.83s/it]"
     ]
    },
    {
     "name": "stdout",
     "output_type": "stream",
     "text": [
      "Saving Best Checkpoint...\n",
      "\n",
      "======= Epoch 30 / 50 =======\n",
      "Training...\n"
     ]
    },
    {
     "name": "stderr",
     "output_type": "stream",
     "text": [
      "Training: 100%|██████████| 228/228 [00:12<00:00, 18.93it/s]\n"
     ]
    },
    {
     "name": "stdout",
     "output_type": "stream",
     "text": [
      "Validating...\n"
     ]
    },
    {
     "name": "stderr",
     "output_type": "stream",
     "text": [
      "Validation: 100%|██████████| 29/29 [00:00<00:00, 68.34it/s]\n",
      "Epochs:  60%|██████    | 30/50 [06:02<04:00, 12.02s/it]"
     ]
    },
    {
     "name": "stdout",
     "output_type": "stream",
     "text": [
      "\n",
      "======= Epoch 31 / 50 =======\n",
      "Training...\n"
     ]
    },
    {
     "name": "stderr",
     "output_type": "stream",
     "text": [
      "Training: 100%|██████████| 228/228 [00:11<00:00, 19.27it/s]\n"
     ]
    },
    {
     "name": "stdout",
     "output_type": "stream",
     "text": [
      "Validating...\n"
     ]
    },
    {
     "name": "stderr",
     "output_type": "stream",
     "text": [
      "Validation: 100%|██████████| 29/29 [00:00<00:00, 68.91it/s]\n",
      "Epochs:  62%|██████▏   | 31/50 [06:14<03:49, 12.10s/it]"
     ]
    },
    {
     "name": "stdout",
     "output_type": "stream",
     "text": [
      "Saving Best Checkpoint...\n",
      "\n",
      "======= Epoch 32 / 50 =======\n",
      "Training...\n"
     ]
    },
    {
     "name": "stderr",
     "output_type": "stream",
     "text": [
      "Training: 100%|██████████| 228/228 [00:11<00:00, 19.96it/s]\n"
     ]
    },
    {
     "name": "stdout",
     "output_type": "stream",
     "text": [
      "Validating...\n"
     ]
    },
    {
     "name": "stderr",
     "output_type": "stream",
     "text": [
      "Validation: 100%|██████████| 29/29 [00:00<00:00, 68.94it/s]\n",
      "Epochs:  64%|██████▍   | 32/50 [06:26<03:36, 12.03s/it]"
     ]
    },
    {
     "name": "stdout",
     "output_type": "stream",
     "text": [
      "Saving Best Checkpoint...\n",
      "\n",
      "======= Epoch 33 / 50 =======\n",
      "Training...\n"
     ]
    },
    {
     "name": "stderr",
     "output_type": "stream",
     "text": [
      "Training: 100%|██████████| 228/228 [00:11<00:00, 20.13it/s]\n"
     ]
    },
    {
     "name": "stdout",
     "output_type": "stream",
     "text": [
      "Validating...\n"
     ]
    },
    {
     "name": "stderr",
     "output_type": "stream",
     "text": [
      "Validation: 100%|██████████| 29/29 [00:00<00:00, 67.35it/s]\n",
      "Epochs:  66%|██████▌   | 33/50 [06:38<03:23, 11.95s/it]"
     ]
    },
    {
     "name": "stdout",
     "output_type": "stream",
     "text": [
      "\n",
      "======= Epoch 34 / 50 =======\n",
      "Training...\n"
     ]
    },
    {
     "name": "stderr",
     "output_type": "stream",
     "text": [
      "Training: 100%|██████████| 228/228 [00:11<00:00, 20.24it/s]\n"
     ]
    },
    {
     "name": "stdout",
     "output_type": "stream",
     "text": [
      "Validating...\n"
     ]
    },
    {
     "name": "stderr",
     "output_type": "stream",
     "text": [
      "Validation: 100%|██████████| 29/29 [00:00<00:00, 70.11it/s]\n",
      "Epochs:  68%|██████▊   | 34/50 [06:49<03:09, 11.87s/it]"
     ]
    },
    {
     "name": "stdout",
     "output_type": "stream",
     "text": [
      "\n",
      "======= Epoch 35 / 50 =======\n",
      "Training...\n"
     ]
    },
    {
     "name": "stderr",
     "output_type": "stream",
     "text": [
      "Training: 100%|██████████| 228/228 [00:11<00:00, 19.37it/s]\n"
     ]
    },
    {
     "name": "stdout",
     "output_type": "stream",
     "text": [
      "Validating...\n"
     ]
    },
    {
     "name": "stderr",
     "output_type": "stream",
     "text": [
      "Validation: 100%|██████████| 29/29 [00:00<00:00, 55.47it/s]\n",
      "Epochs:  70%|███████   | 35/50 [07:02<02:59, 12.00s/it]"
     ]
    },
    {
     "name": "stdout",
     "output_type": "stream",
     "text": [
      "\n",
      "======= Epoch 36 / 50 =======\n",
      "Training...\n"
     ]
    },
    {
     "name": "stderr",
     "output_type": "stream",
     "text": [
      "Training: 100%|██████████| 228/228 [00:11<00:00, 19.43it/s]\n"
     ]
    },
    {
     "name": "stdout",
     "output_type": "stream",
     "text": [
      "Validating...\n"
     ]
    },
    {
     "name": "stderr",
     "output_type": "stream",
     "text": [
      "Validation: 100%|██████████| 29/29 [00:00<00:00, 68.71it/s]\n",
      "Epochs:  72%|███████▏  | 36/50 [07:14<02:48, 12.05s/it]"
     ]
    },
    {
     "name": "stdout",
     "output_type": "stream",
     "text": [
      "\n",
      "======= Epoch 37 / 50 =======\n",
      "Training...\n"
     ]
    },
    {
     "name": "stderr",
     "output_type": "stream",
     "text": [
      "Training: 100%|██████████| 228/228 [00:13<00:00, 17.38it/s]\n"
     ]
    },
    {
     "name": "stdout",
     "output_type": "stream",
     "text": [
      "Validating...\n"
     ]
    },
    {
     "name": "stderr",
     "output_type": "stream",
     "text": [
      "Validation: 100%|██████████| 29/29 [00:00<00:00, 74.60it/s]\n",
      "Epochs:  74%|███████▍  | 37/50 [07:27<02:42, 12.49s/it]"
     ]
    },
    {
     "name": "stdout",
     "output_type": "stream",
     "text": [
      "Saving Best Checkpoint...\n",
      "\n",
      "======= Epoch 38 / 50 =======\n",
      "Training...\n"
     ]
    },
    {
     "name": "stderr",
     "output_type": "stream",
     "text": [
      "Training: 100%|██████████| 228/228 [00:11<00:00, 19.39it/s]\n"
     ]
    },
    {
     "name": "stdout",
     "output_type": "stream",
     "text": [
      "Validating...\n"
     ]
    },
    {
     "name": "stderr",
     "output_type": "stream",
     "text": [
      "Validation: 100%|██████████| 29/29 [00:00<00:00, 68.19it/s]\n",
      "Epochs:  76%|███████▌  | 38/50 [07:40<02:28, 12.41s/it]"
     ]
    },
    {
     "name": "stdout",
     "output_type": "stream",
     "text": [
      "Saving Best Checkpoint...\n",
      "\n",
      "======= Epoch 39 / 50 =======\n",
      "Training...\n"
     ]
    },
    {
     "name": "stderr",
     "output_type": "stream",
     "text": [
      "Training: 100%|██████████| 228/228 [00:11<00:00, 20.19it/s]\n"
     ]
    },
    {
     "name": "stdout",
     "output_type": "stream",
     "text": [
      "Validating...\n"
     ]
    },
    {
     "name": "stderr",
     "output_type": "stream",
     "text": [
      "Validation: 100%|██████████| 29/29 [00:00<00:00, 63.20it/s]\n",
      "Epochs:  78%|███████▊  | 39/50 [07:51<02:14, 12.21s/it]"
     ]
    },
    {
     "name": "stdout",
     "output_type": "stream",
     "text": [
      "\n",
      "======= Epoch 40 / 50 =======\n",
      "Training...\n"
     ]
    },
    {
     "name": "stderr",
     "output_type": "stream",
     "text": [
      "Training: 100%|██████████| 228/228 [00:10<00:00, 20.76it/s]\n"
     ]
    },
    {
     "name": "stdout",
     "output_type": "stream",
     "text": [
      "Validating...\n"
     ]
    },
    {
     "name": "stderr",
     "output_type": "stream",
     "text": [
      "Validation: 100%|██████████| 29/29 [00:00<00:00, 67.69it/s]\n",
      "Epochs:  80%|████████  | 40/50 [08:03<01:59, 11.98s/it]"
     ]
    },
    {
     "name": "stdout",
     "output_type": "stream",
     "text": [
      "\n",
      "======= Epoch 41 / 50 =======\n",
      "Training...\n"
     ]
    },
    {
     "name": "stderr",
     "output_type": "stream",
     "text": [
      "Training: 100%|██████████| 228/228 [00:11<00:00, 20.05it/s]\n"
     ]
    },
    {
     "name": "stdout",
     "output_type": "stream",
     "text": [
      "Validating...\n"
     ]
    },
    {
     "name": "stderr",
     "output_type": "stream",
     "text": [
      "Validation: 100%|██████████| 29/29 [00:00<00:00, 53.64it/s]\n",
      "Epochs:  82%|████████▏ | 41/50 [08:15<01:47, 11.96s/it]"
     ]
    },
    {
     "name": "stdout",
     "output_type": "stream",
     "text": [
      "Saving Best Checkpoint...\n",
      "\n",
      "======= Epoch 42 / 50 =======\n",
      "Training...\n"
     ]
    },
    {
     "name": "stderr",
     "output_type": "stream",
     "text": [
      "Training: 100%|██████████| 228/228 [00:11<00:00, 19.56it/s]\n"
     ]
    },
    {
     "name": "stdout",
     "output_type": "stream",
     "text": [
      "Validating...\n"
     ]
    },
    {
     "name": "stderr",
     "output_type": "stream",
     "text": [
      "Validation: 100%|██████████| 29/29 [00:00<00:00, 71.22it/s]\n",
      "Epochs:  84%|████████▍ | 42/50 [08:27<01:35, 12.00s/it]"
     ]
    },
    {
     "name": "stdout",
     "output_type": "stream",
     "text": [
      "\n",
      "======= Epoch 43 / 50 =======\n",
      "Training...\n"
     ]
    },
    {
     "name": "stderr",
     "output_type": "stream",
     "text": [
      "Training: 100%|██████████| 228/228 [00:11<00:00, 19.64it/s]\n"
     ]
    },
    {
     "name": "stdout",
     "output_type": "stream",
     "text": [
      "Validating...\n"
     ]
    },
    {
     "name": "stderr",
     "output_type": "stream",
     "text": [
      "Validation: 100%|██████████| 29/29 [00:00<00:00, 71.63it/s]\n",
      "Epochs:  86%|████████▌ | 43/50 [08:39<01:24, 12.01s/it]"
     ]
    },
    {
     "name": "stdout",
     "output_type": "stream",
     "text": [
      "Saving Best Checkpoint...\n",
      "\n",
      "======= Epoch 44 / 50 =======\n",
      "Training...\n"
     ]
    },
    {
     "name": "stderr",
     "output_type": "stream",
     "text": [
      "Training: 100%|██████████| 228/228 [00:11<00:00, 19.08it/s]\n"
     ]
    },
    {
     "name": "stdout",
     "output_type": "stream",
     "text": [
      "Validating...\n"
     ]
    },
    {
     "name": "stderr",
     "output_type": "stream",
     "text": [
      "Validation: 100%|██████████| 29/29 [00:00<00:00, 70.79it/s]\n",
      "Epochs:  88%|████████▊ | 44/50 [08:51<01:12, 12.11s/it]"
     ]
    },
    {
     "name": "stdout",
     "output_type": "stream",
     "text": [
      "\n",
      "======= Epoch 45 / 50 =======\n",
      "Training...\n"
     ]
    },
    {
     "name": "stderr",
     "output_type": "stream",
     "text": [
      "Training: 100%|██████████| 228/228 [00:11<00:00, 20.46it/s]\n"
     ]
    },
    {
     "name": "stdout",
     "output_type": "stream",
     "text": [
      "Validating...\n"
     ]
    },
    {
     "name": "stderr",
     "output_type": "stream",
     "text": [
      "Validation: 100%|██████████| 29/29 [00:00<00:00, 77.22it/s]\n",
      "Epochs:  90%|█████████ | 45/50 [09:03<00:59, 11.94s/it]"
     ]
    },
    {
     "name": "stdout",
     "output_type": "stream",
     "text": [
      "\n",
      "======= Epoch 46 / 50 =======\n",
      "Training...\n"
     ]
    },
    {
     "name": "stderr",
     "output_type": "stream",
     "text": [
      "Training: 100%|██████████| 228/228 [00:11<00:00, 19.79it/s]\n"
     ]
    },
    {
     "name": "stdout",
     "output_type": "stream",
     "text": [
      "Validating...\n"
     ]
    },
    {
     "name": "stderr",
     "output_type": "stream",
     "text": [
      "Validation: 100%|██████████| 29/29 [00:00<00:00, 73.60it/s]\n",
      "Epochs:  92%|█████████▏| 46/50 [09:15<00:47, 11.93s/it]"
     ]
    },
    {
     "name": "stdout",
     "output_type": "stream",
     "text": [
      "\n",
      "======= Epoch 47 / 50 =======\n",
      "Training...\n"
     ]
    },
    {
     "name": "stderr",
     "output_type": "stream",
     "text": [
      "Training: 100%|██████████| 228/228 [00:11<00:00, 19.74it/s]\n"
     ]
    },
    {
     "name": "stdout",
     "output_type": "stream",
     "text": [
      "Validating...\n"
     ]
    },
    {
     "name": "stderr",
     "output_type": "stream",
     "text": [
      "Validation: 100%|██████████| 29/29 [00:00<00:00, 60.44it/s]\n",
      "Epochs:  94%|█████████▍| 47/50 [09:27<00:35, 11.97s/it]"
     ]
    },
    {
     "name": "stdout",
     "output_type": "stream",
     "text": [
      "\n",
      "======= Epoch 48 / 50 =======\n",
      "Training...\n"
     ]
    },
    {
     "name": "stderr",
     "output_type": "stream",
     "text": [
      "Training: 100%|██████████| 228/228 [00:11<00:00, 20.58it/s]\n"
     ]
    },
    {
     "name": "stdout",
     "output_type": "stream",
     "text": [
      "Validating...\n"
     ]
    },
    {
     "name": "stderr",
     "output_type": "stream",
     "text": [
      "Validation: 100%|██████████| 29/29 [00:00<00:00, 72.79it/s]\n",
      "Epochs:  96%|█████████▌| 48/50 [09:38<00:23, 11.82s/it]"
     ]
    },
    {
     "name": "stdout",
     "output_type": "stream",
     "text": [
      "Saving Best Checkpoint...\n",
      "\n",
      "======= Epoch 49 / 50 =======\n",
      "Training...\n"
     ]
    },
    {
     "name": "stderr",
     "output_type": "stream",
     "text": [
      "Training: 100%|██████████| 228/228 [00:11<00:00, 20.18it/s]\n"
     ]
    },
    {
     "name": "stdout",
     "output_type": "stream",
     "text": [
      "Validating...\n"
     ]
    },
    {
     "name": "stderr",
     "output_type": "stream",
     "text": [
      "Validation: 100%|██████████| 29/29 [00:00<00:00, 66.01it/s]\n",
      "Epochs:  98%|█████████▊| 49/50 [09:50<00:11, 11.80s/it]"
     ]
    },
    {
     "name": "stdout",
     "output_type": "stream",
     "text": [
      "\n",
      "======= Epoch 50 / 50 =======\n",
      "Training...\n"
     ]
    },
    {
     "name": "stderr",
     "output_type": "stream",
     "text": [
      "Training:  62%|██████▏   | 142/228 [00:07<00:04, 19.66it/s]"
     ]
    }
   ],
   "source": [
    "for i in tqdm(range(epochs), desc=\"Epochs\", position=0, leave=True): \n",
    "    print(\"\")\n",
    "    print(\"======= Epoch {:} / {:} =======\".format(i+1, epochs))\n",
    "    print(\"Training...\") \n",
    "    total_loss = 0 \n",
    "    model.train() \n",
    "    \n",
    "    for batch in tqdm(train_dataloader, desc=\"Training\", smoothing=0.05, position=0, leave=True):                \n",
    "        past_cont = batch['past_cont'].to(device) \n",
    "        past_disc = batch['past_disc'].to(device) \n",
    "        target_seq = batch['target_seq'].to(device) \n",
    "        future_disc = batch['future_disc'].to(device) \n",
    "        model.reset(batch_size=past_cont.shape[0], gpu=True)\n",
    "        past_disc = one_hot(past_disc, [13, 32, 25]) \n",
    "        future_disc = one_hot(future_disc, [13, 32, 25])  \n",
    "                \n",
    "        optimizer.zero_grad() \n",
    "        net_out, vs_weights = model(past_cont, past_disc, None, future_disc) \n",
    "        \n",
    "        loss = criterion(net_out, target_seq) \n",
    "        total_loss += loss.item() \n",
    "        loss.backward() # back propagation \n",
    "        torch.nn.utils.clip_grad_norm_(model.parameters(), 1.0) # gradient clipping \n",
    "        optimizer.step() \n",
    "        scheduler.step() \n",
    "    \n",
    "    avg_train_loss = total_loss / len(train_dataloader)\n",
    "    train_losses.append(avg_train_loss)  \n",
    "    \n",
    "    print(\"Validating...\")\n",
    "    model.eval() \n",
    "    val_loss, _, _ = evaluate(val_dataloader) \n",
    "    val_losses.append(val_loss) \n",
    "    if np.min(val_losses) == val_losses[-1]: \n",
    "        print(\"Saving Best Checkpoint...\") \n",
    "        torch.save(model.state_dict(), \"TFT_EMNLP_example.pt\") \n",
    "\n",
    "print(\"\") \n",
    "print(\"Training Complete!\")\n"
   ]
  },
  {
   "cell_type": "code",
   "execution_count": 98,
   "metadata": {},
   "outputs": [
    {
     "data": {
      "text/plain": [
       "<Figure size 432x288 with 0 Axes>"
      ]
     },
     "metadata": {},
     "output_type": "display_data"
    },
    {
     "data": {
      "image/png": "[encoded data removed]",
      "text/plain": [
       "<Figure size 864x864 with 1 Axes>"
      ]
     },
     "metadata": {
      "needs_background": "light"
     },
     "output_type": "display_data"
    }
   ],
   "source": [
    "plt.figure() \n",
    "plt.figure(figsize=(12,12))\n",
    "plt.xlabel(\"epochs\")\n",
    "plt.ylabel(\"MSE loss\") \n",
    "plt.plot(train_losses[3:], label=\"train loss\") \n",
    "plt.plot(val_losses[3:], label=\"val loss\") \n",
    "plt.legend() \n",
    "plt.savefig(\"TFT train loss\")\n",
    "plt.show() "
   ]
  },
  {
   "cell_type": "code",
   "execution_count": 99,
   "metadata": {},
   "outputs": [
    {
     "data": {
      "text/plain": [
       "TFN(\n",
       "  (vs_past): VSN(\n",
       "    (fc): Linear(in_features=1, out_features=160, bias=False)\n",
       "    (input_grn): GRN(\n",
       "      (fc1): Linear(in_features=160, out_features=10, bias=True)\n",
       "      (fc2): Linear(in_features=10, out_features=160, bias=True)\n",
       "      (dropout): Dropout(p=0.1, inplace=False)\n",
       "      (gate): GLU(\n",
       "        (fc1): Linear(in_features=160, out_features=160, bias=True)\n",
       "        (fc2): Linear(in_features=160, out_features=160, bias=True)\n",
       "      )\n",
       "      (norm): LayerNorm((160,), eps=1e-05, elementwise_affine=True)\n",
       "    )\n",
       "    (vs_grn): GRN(\n",
       "      (skip): Linear(in_features=5440, out_features=34, bias=True)\n",
       "      (fc1): Linear(in_features=5440, out_features=10, bias=True)\n",
       "      (fc2): Linear(in_features=10, out_features=34, bias=True)\n",
       "      (dropout): Dropout(p=0.1, inplace=False)\n",
       "      (gate): GLU(\n",
       "        (fc1): Linear(in_features=34, out_features=34, bias=True)\n",
       "        (fc2): Linear(in_features=34, out_features=34, bias=True)\n",
       "      )\n",
       "      (norm): LayerNorm((34,), eps=1e-05, elementwise_affine=True)\n",
       "    )\n",
       "  )\n",
       "  (vs_future): VSN(\n",
       "    (fc): Linear(in_features=1, out_features=160, bias=False)\n",
       "    (input_grn): GRN(\n",
       "      (fc1): Linear(in_features=160, out_features=10, bias=True)\n",
       "      (fc2): Linear(in_features=10, out_features=160, bias=True)\n",
       "      (dropout): Dropout(p=0.1, inplace=False)\n",
       "      (gate): GLU(\n",
       "        (fc1): Linear(in_features=160, out_features=160, bias=True)\n",
       "        (fc2): Linear(in_features=160, out_features=160, bias=True)\n",
       "      )\n",
       "      (norm): LayerNorm((160,), eps=1e-05, elementwise_affine=True)\n",
       "    )\n",
       "    (vs_grn): GRN(\n",
       "      (skip): Linear(in_features=480, out_features=3, bias=True)\n",
       "      (fc1): Linear(in_features=480, out_features=10, bias=True)\n",
       "      (fc2): Linear(in_features=10, out_features=3, bias=True)\n",
       "      (dropout): Dropout(p=0.1, inplace=False)\n",
       "      (gate): GLU(\n",
       "        (fc1): Linear(in_features=3, out_features=3, bias=True)\n",
       "        (fc2): Linear(in_features=3, out_features=3, bias=True)\n",
       "      )\n",
       "      (norm): LayerNorm((3,), eps=1e-05, elementwise_affine=True)\n",
       "    )\n",
       "  )\n",
       "  (enc): LSTMLayer(\n",
       "    (lstm): LSTM(160, 160, batch_first=True)\n",
       "    (dropout): Dropout(p=0.1, inplace=False)\n",
       "  )\n",
       "  (dec): LSTMLayer(\n",
       "    (lstm): LSTM(160, 160, batch_first=True)\n",
       "    (dropout): Dropout(p=0.1, inplace=False)\n",
       "  )\n",
       "  (gate1): GLU(\n",
       "    (fc1): Linear(in_features=160, out_features=160, bias=True)\n",
       "    (fc2): Linear(in_features=160, out_features=160, bias=True)\n",
       "  )\n",
       "  (norm1): LayerNorm((160,), eps=1e-05, elementwise_affine=True)\n",
       "  (static_enrich_grn): GRN(\n",
       "    (fc1): Linear(in_features=160, out_features=10, bias=True)\n",
       "    (fc2): Linear(in_features=10, out_features=160, bias=True)\n",
       "    (dropout): Dropout(p=0.1, inplace=False)\n",
       "    (gate): GLU(\n",
       "      (fc1): Linear(in_features=160, out_features=160, bias=True)\n",
       "      (fc2): Linear(in_features=160, out_features=160, bias=True)\n",
       "    )\n",
       "    (norm): LayerNorm((160,), eps=1e-05, elementwise_affine=True)\n",
       "  )\n",
       "  (norm2): LayerNorm((160,), eps=1e-05, elementwise_affine=True)\n",
       "  (positionwise_grn): GRN(\n",
       "    (fc1): Linear(in_features=160, out_features=10, bias=True)\n",
       "    (fc2): Linear(in_features=10, out_features=160, bias=True)\n",
       "    (dropout): Dropout(p=0.1, inplace=False)\n",
       "    (gate): GLU(\n",
       "      (fc1): Linear(in_features=160, out_features=160, bias=True)\n",
       "      (fc2): Linear(in_features=160, out_features=160, bias=True)\n",
       "    )\n",
       "    (norm): LayerNorm((160,), eps=1e-05, elementwise_affine=True)\n",
       "  )\n",
       "  (norm3): LayerNorm((160,), eps=1e-05, elementwise_affine=True)\n",
       "  (dropout): Dropout(p=0.1, inplace=False)\n",
       "  (fc_out): Linear(in_features=160, out_features=1, bias=True)\n",
       ")"
      ]
     },
     "execution_count": 99,
     "metadata": {},
     "output_type": "execute_result"
    }
   ],
   "source": [
    "# inference \n",
    "\n",
    "# load test model \n",
    "test_model = TFN(n_var_past_cont = features,\n",
    "                 n_var_future_cont = 0, \n",
    "                 n_var_past_disc = [13, 32, 25], \n",
    "                 n_var_future_disc = [13, 32, 25],\n",
    "                 dim_model = 160)  \n",
    "\n",
    "checkpoint = torch.load(\"TFT_EMNLP_example.pt\") \n",
    "\n",
    "test_model.load_state_dict(checkpoint)\n",
    "\n",
    "test_model.eval() \n",
    "\n",
    "test_model.cuda() "
   ]
  },
  {
   "cell_type": "code",
   "execution_count": 100,
   "metadata": {},
   "outputs": [],
   "source": [
    "test_dataset = CustomDataset(test_cont, test_disc, test_targets, test_future_discs) \n",
    "test_dataloader = torch.utils.data.DataLoader(test_dataset, batch_size = BATCH_SIZE, shuffle=False)\n"
   ]
  },
  {
   "cell_type": "code",
   "execution_count": 101,
   "metadata": {},
   "outputs": [
    {
     "name": "stderr",
     "output_type": "stream",
     "text": [
      "Testing:   0%|          | 0/29 [00:00<?, ?it/s]/usr/local/lib/python3.6/dist-packages/ipykernel_launcher.py:15: UserWarning: To copy construct from a tensor, it is recommended to use sourceTensor.clone().detach() or sourceTensor.clone().detach().requires_grad_(True), rather than torch.tensor(sourceTensor).\n",
      "  from ipykernel import kernelapp as app\n",
      "/usr/local/lib/python3.6/dist-packages/ipykernel_launcher.py:16: UserWarning: To copy construct from a tensor, it is recommended to use sourceTensor.clone().detach() or sourceTensor.clone().detach().requires_grad_(True), rather than torch.tensor(sourceTensor).\n",
      "  app.launch_new_instance()\n",
      "/usr/local/lib/python3.6/dist-packages/ipykernel_launcher.py:17: UserWarning: To copy construct from a tensor, it is recommended to use sourceTensor.clone().detach() or sourceTensor.clone().detach().requires_grad_(True), rather than torch.tensor(sourceTensor).\n",
      "/usr/local/lib/python3.6/dist-packages/ipykernel_launcher.py:18: UserWarning: To copy construct from a tensor, it is recommended to use sourceTensor.clone().detach() or sourceTensor.clone().detach().requires_grad_(True), rather than torch.tensor(sourceTensor).\n",
      "Testing: 100%|██████████| 29/29 [00:00<00:00, 74.02it/s]\n"
     ]
    }
   ],
   "source": [
    "predicted, actual = [],[] \n",
    "for batch in tqdm(test_dataloader, desc=\"Testing\"):\n",
    "    past_cont = batch['past_cont'].to(device) \n",
    "    past_disc = batch['past_disc'].to(device) \n",
    "    target_seq = batch['target_seq'].to(device) \n",
    "    future_disc = batch['future_disc'].to(device) \n",
    "    \n",
    "    past_disc = one_hot(past_disc, [13,32,25]) \n",
    "    future_disc = one_hot(future_disc, [13,32,25]) \n",
    "    test_model.reset(batch_size=past_cont.shape[0], gpu=True)\n",
    "    with torch.no_grad():\n",
    "        net_out, vs_weights = test_model(past_cont, past_disc, None, future_disc)\n",
    "    \n",
    "    pred = net_out.detach().cpu().numpy().flatten()\n",
    "    for p in pred:\n",
    "        predicted.append(p)\n",
    "    \n",
    "    act = target_seq.detach().cpu().numpy().flatten() \n",
    "    for a in act:\n",
    "        actual.append(a)"
   ]
  },
  {
   "cell_type": "code",
   "execution_count": 102,
   "metadata": {},
   "outputs": [
    {
     "name": "stdout",
     "output_type": "stream",
     "text": [
      "MSE = 0.12043377757072449\n",
      "MAE = 0.296918660402298\n"
     ]
    }
   ],
   "source": [
    "print(\"MSE = {}\".format(mean_squared_error(actual, predicted))) \n",
    "print(\"MAE = {}\".format(mean_absolute_error(actual, predicted)))  "
   ]
  },
  {
   "cell_type": "code",
   "execution_count": 103,
   "metadata": {},
   "outputs": [
    {
     "data": {
      "text/plain": [
       "<matplotlib.legend.Legend at 0x7fb0e1b2b9e8>"
      ]
     },
     "execution_count": 103,
     "metadata": {},
     "output_type": "execute_result"
    },
    {
     "data": {
      "text/plain": [
       "<Figure size 432x288 with 0 Axes>"
      ]
     },
     "metadata": {},
     "output_type": "display_data"
    },
    {
     "data": {
      "image/png": "[encoded data removed]",
      "text/plain": [
       "<Figure size 864x864 with 1 Axes>"
      ]
     },
     "metadata": {
      "needs_background": "light"
     },
     "output_type": "display_data"
    }
   ],
   "source": [
    "plt.figure() \n",
    "plt.figure(figsize=(12,12)) \n",
    "plt.plot(predicted, label=\"predicted returns\")\n",
    "plt.legend()"
   ]
  },
  {
   "cell_type": "code",
   "execution_count": 104,
   "metadata": {},
   "outputs": [
    {
     "data": {
      "text/plain": [
       "<matplotlib.legend.Legend at 0x7fb0e1b00da0>"
      ]
     },
     "execution_count": 104,
     "metadata": {},
     "output_type": "execute_result"
    },
    {
     "data": {
      "text/plain": [
       "<Figure size 432x288 with 0 Axes>"
      ]
     },
     "metadata": {},
     "output_type": "display_data"
    },
    {
     "data": {
      "image/png": "[encoded data removed]",
      "text/plain": [
       "<Figure size 864x864 with 1 Axes>"
      ]
     },
     "metadata": {
      "needs_background": "light"
     },
     "output_type": "display_data"
    }
   ],
   "source": [
    "plt.figure() \n",
    "plt.figure(figsize=(12,12)) \n",
    "plt.plot(actual, label=\"actual returns\")\n",
    "plt.legend()"
   ]
  },
  {
   "cell_type": "code",
   "execution_count": null,
   "metadata": {},
   "outputs": [],
   "source": []
  }
 ],
 "metadata": {
  "kernelspec": {
   "display_name": "Python 3",
   "language": "python",
   "name": "python3"
  },
  "language_info": {
   "codemirror_mode": {
    "name": "ipython",
    "version": 3
   },
   "file_extension": ".py",
   "mimetype": "text/x-python",
   "name": "python",
   "nbconvert_exporter": "python",
   "pygments_lexer": "ipython3",
   "version": "3.6.9"
  }
 },
 "nbformat": 4,
 "nbformat_minor": 4
}
